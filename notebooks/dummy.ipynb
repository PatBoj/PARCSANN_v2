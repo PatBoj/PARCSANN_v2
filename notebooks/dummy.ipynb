{
 "cells": [
  {
   "cell_type": "code",
   "execution_count": 5,
   "metadata": {},
   "outputs": [],
   "source": [
    "import pandas as pd\n",
    "import math"
   ]
  },
  {
   "cell_type": "code",
   "execution_count": 7,
   "metadata": {},
   "outputs": [
    {
     "data": {
      "text/html": [
       "<div>\n",
       "<style scoped>\n",
       "    .dataframe tbody tr th:only-of-type {\n",
       "        vertical-align: middle;\n",
       "    }\n",
       "\n",
       "    .dataframe tbody tr th {\n",
       "        vertical-align: top;\n",
       "    }\n",
       "\n",
       "    .dataframe thead th {\n",
       "        text-align: right;\n",
       "    }\n",
       "</style>\n",
       "<table border=\"1\" class=\"dataframe\">\n",
       "  <thead>\n",
       "    <tr style=\"text-align: right;\">\n",
       "      <th></th>\n",
       "      <th>col1</th>\n",
       "      <th>col2</th>\n",
       "    </tr>\n",
       "  </thead>\n",
       "  <tbody>\n",
       "    <tr>\n",
       "      <th>0</th>\n",
       "      <td>2</td>\n",
       "      <td>A</td>\n",
       "    </tr>\n",
       "    <tr>\n",
       "      <th>1</th>\n",
       "      <td>2</td>\n",
       "      <td>B</td>\n",
       "    </tr>\n",
       "    <tr>\n",
       "      <th>2</th>\n",
       "      <td>3</td>\n",
       "      <td>C</td>\n",
       "    </tr>\n",
       "  </tbody>\n",
       "</table>\n",
       "</div>"
      ],
      "text/plain": [
       "   col1 col2\n",
       "0     2    A\n",
       "1     2    B\n",
       "2     3    C"
      ]
     },
     "execution_count": 7,
     "metadata": {},
     "output_type": "execute_result"
    }
   ],
   "source": [
    "df = pd.DataFrame({'col1': [2, 2, 3], 'col2': ['A', 'B', 'C']})\n",
    "df"
   ]
  },
  {
   "cell_type": "code",
   "execution_count": 8,
   "metadata": {},
   "outputs": [
    {
     "data": {
      "text/html": [
       "<div>\n",
       "<style scoped>\n",
       "    .dataframe tbody tr th:only-of-type {\n",
       "        vertical-align: middle;\n",
       "    }\n",
       "\n",
       "    .dataframe tbody tr th {\n",
       "        vertical-align: top;\n",
       "    }\n",
       "\n",
       "    .dataframe thead th {\n",
       "        text-align: right;\n",
       "    }\n",
       "</style>\n",
       "<table border=\"1\" class=\"dataframe\">\n",
       "  <thead>\n",
       "    <tr style=\"text-align: right;\">\n",
       "      <th></th>\n",
       "      <th>col1</th>\n",
       "      <th>col2</th>\n",
       "    </tr>\n",
       "  </thead>\n",
       "  <tbody>\n",
       "    <tr>\n",
       "      <th>0</th>\n",
       "      <td>2</td>\n",
       "      <td>A</td>\n",
       "    </tr>\n",
       "    <tr>\n",
       "      <th>1</th>\n",
       "      <td>2</td>\n",
       "      <td>B</td>\n",
       "    </tr>\n",
       "    <tr>\n",
       "      <th>2</th>\n",
       "      <td>3</td>\n",
       "      <td>C</td>\n",
       "    </tr>\n",
       "  </tbody>\n",
       "</table>\n",
       "</div>"
      ],
      "text/plain": [
       "   col1 col2\n",
       "0     2    A\n",
       "1     2    B\n",
       "2     3    C"
      ]
     },
     "execution_count": 8,
     "metadata": {},
     "output_type": "execute_result"
    },
    {
     "ename": "",
     "evalue": "",
     "output_type": "error",
     "traceback": [
      "\u001b[1;31mThe Kernel crashed while executing code in the the current cell or a previous cell. Please review the code in the cell(s) to identify a possible cause of the failure. Click <a href='https://aka.ms/vscodeJupyterKernelCrash'>here</a> for more info. View Jupyter <a href='command:jupyter.viewOutput'>log</a> for further details."
     ]
    }
   ],
   "source": [
    "def change_something(df: pd.DataFrame):\n",
    "    \n",
    "    return df['col1'].apply(lambda x: math.log10(x))\n",
    "\n",
    "x = change_something(df)\n",
    "df"
   ]
  },
  {
   "cell_type": "code",
   "execution_count": 1,
   "metadata": {},
   "outputs": [
    {
     "name": "stdout",
     "output_type": "stream",
     "text": [
      "ELO\n"
     ]
    }
   ],
   "source": [
    "def dummy(execute: bool) -> None:\n",
    "    \n",
    "    if execute:\n",
    "        return None\n",
    "    \n",
    "    print('ELO')\n",
    "    \n",
    "a = dummy(True)\n",
    "b = dummy(False)"
   ]
  },
  {
   "cell_type": "code",
   "execution_count": 4,
   "metadata": {},
   "outputs": [
    {
     "name": "stdout",
     "output_type": "stream",
     "text": [
      "None\n"
     ]
    }
   ],
   "source": [
    "print(a)"
   ]
  },
  {
   "cell_type": "code",
   "execution_count": 5,
   "metadata": {},
   "outputs": [
    {
     "name": "stdout",
     "output_type": "stream",
     "text": [
      "None\n"
     ]
    }
   ],
   "source": [
    "print(b)"
   ]
  },
  {
   "cell_type": "code",
   "execution_count": 10,
   "metadata": {},
   "outputs": [
    {
     "ename": "TypeError",
     "evalue": "can only concatenate str (not \"NoneType\") to str",
     "output_type": "error",
     "traceback": [
      "\u001b[1;31m---------------------------------------------------------------------------\u001b[0m",
      "\u001b[1;31mTypeError\u001b[0m                                 Traceback (most recent call last)",
      "Cell \u001b[1;32mIn[10], line 4\u001b[0m\n\u001b[0;32m      1\u001b[0m a \u001b[38;5;241m=\u001b[39m \u001b[38;5;124m\"\u001b[39m\u001b[38;5;124melo\u001b[39m\u001b[38;5;124m\"\u001b[39m\n\u001b[0;32m      2\u001b[0m b \u001b[38;5;241m=\u001b[39m \u001b[38;5;28;01mNone\u001b[39;00m\n\u001b[1;32m----> 4\u001b[0m \u001b[43ma\u001b[49m\u001b[43m \u001b[49m\u001b[38;5;241;43m+\u001b[39;49m\u001b[43m \u001b[49m\u001b[43mb\u001b[49m\n",
      "\u001b[1;31mTypeError\u001b[0m: can only concatenate str (not \"NoneType\") to str"
     ]
    }
   ],
   "source": [
    "a = \"elo\"\n",
    "b = None\n",
    "\n",
    "a + b"
   ]
  },
  {
   "cell_type": "code",
   "execution_count": 18,
   "metadata": {},
   "outputs": [
    {
     "name": "stdout",
     "output_type": "stream",
     "text": [
      "Experiment 0 started\n",
      "Experiment 1 started\n",
      "Experiment 2 started\n",
      "Experiment 3 started\n",
      "Experiment 4 started\n",
      "Experiment 5 started\n",
      "Experiment 6 started\n",
      "Experiment 7 started\n",
      "Experiment 8 started\n",
      "Experiment 9 started\n",
      "Experiment 10 started\n",
      "Experiment 11 started\n",
      "Experiment 12 started\n",
      "Experiment 13 started\n",
      "Experiment 14 started\n",
      "Experiment 15 started\n",
      "Experiment 16 started\n",
      "Experiment 17 started\n",
      "Experiment 18 started\n",
      "Experiment 19 started\n",
      "Experiment 20 started\n",
      "Experiment 21 started\n",
      "Experiment 22 started\n",
      "Experiment 23 started\n",
      "Experiment 24 started\n",
      "Experiment 25 started\n",
      "Experiment 26 started\n",
      "Experiment 27 started\n",
      "Experiment 28 started\n",
      "Experiment 29 started\n",
      "Experiment 30 started\n",
      "Experiment 31 started\n",
      "Experiment 32 started\n",
      "Experiment 33 started\n",
      "Experiment 34 started\n",
      "Experiment 35 started\n",
      "Experiment 36 started\n",
      "Experiment 37 started\n",
      "Experiment 38 started\n",
      "Experiment 39 started\n",
      "Experiment 40 started\n",
      "Experiment 41 started\n",
      "Experiment 42 started\n",
      "Experiment 43 started\n",
      "Experiment 44 started\n",
      "Experiment 45 started\n",
      "Experiment 46 started\n",
      "Experiment 47 started\n",
      "Experiment 48 started\n",
      "Experiment 49 started\n",
      "Experiment 50 started\n",
      "Experiment 51 started\n",
      "Experiment 52 started\n",
      "Experiment 53 started\n",
      "Experiment 54 started\n",
      "Experiment 55 started\n",
      "Experiment 56 started\n",
      "Experiment 57 started\n",
      "Experiment 58 started\n",
      "Experiment 59 started\n",
      "Experiment 60 started\n",
      "Experiment 61 started\n",
      "Experiment 62 started\n",
      "Experiment 63 started\n",
      "Experiment 64 started\n",
      "Experiment 65 started\n",
      "Experiment 66 started\n",
      "Experiment 67 started\n",
      "Experiment 68 started\n",
      "Experiment 69 started\n",
      "Experiment 70 started\n",
      "Experiment 71 started\n",
      "Experiment 72 started\n",
      "Experiment 73 started\n",
      "Experiment 74 started\n",
      "Experiment 75 started\n",
      "Experiment 76 started\n",
      "Experiment 77 started\n",
      "Experiment 78 started\n",
      "Experiment 79 started\n",
      "Experiment 80 started\n",
      "Experiment 81 started\n",
      "Experiment 82 started\n",
      "Experiment 83 started\n",
      "Experiment 84 started\n",
      "Experiment 85 started\n",
      "Experiment 86 started\n",
      "Experiment 87 started\n",
      "Experiment 88 started\n",
      "Experiment 89 started\n",
      "Experiment 90 started\n",
      "Experiment 91 started\n",
      "Experiment 92 started\n",
      "Experiment 93 started\n",
      "Experiment 94 started\n",
      "Experiment 95 started\n",
      "Experiment 96 started\n",
      "Experiment 97 started\n",
      "Experiment 98 started\n",
      "Experiment 99 started\n"
     ]
    },
    {
     "name": "stdout",
     "output_type": "stream",
     "text": [
      "Experiment 9 finishedExperiment 7 finished\n",
      "Experiment 10 finished\n",
      "Experiment 6 finished\n",
      "Experiment 4 finished\n",
      "Experiment 3 finished\n",
      "Experiment 8 finished\n",
      "Experiment 5 finished\n",
      "Experiment 11 finished\n",
      "Experiment 1 finished\n",
      "Experiment 0 finished\n",
      "Experiment 2 finished\n",
      "\n",
      "Experiment 56 finished\n",
      "Experiment 55 finished\n",
      "Experiment 59 finished\n",
      "Experiment 60 finished\n",
      "Experiment 54 finished\n",
      "Experiment 61 finished\n",
      "Experiment 53 finished\n",
      "Experiment 48 finished\n",
      "Experiment 47 finished\n",
      "Experiment 42 finished\n",
      "Experiment 41 finished\n",
      "Experiment 36 finished\n",
      "Experiment 35 finished\n",
      "Experiment 57 finished\n",
      "Experiment 30 finished\n",
      "Experiment 29 finished\n",
      "Experiment 52 finished\n",
      "Experiment 24 finished\n",
      "Experiment 23 finished\n",
      "Experiment 51 finished\n",
      "Experiment 18 finished\n",
      "Experiment 17 finished\n",
      "Experiment 12 finished\n",
      "Experiment 66 finished\n",
      "Experiment 46 finished\n",
      "Experiment 58 finished\n",
      "Experiment 65 finished\n",
      "Experiment 45 finished\n",
      "Experiment 40 finished\n",
      "Experiment 62 finished\n",
      "Experiment 50 finished\n",
      "Experiment 34 finished\n",
      "Experiment 49 finished\n",
      "Experiment 44 finished\n",
      "Experiment 43 finished\n",
      "Experiment 33 finished\n",
      "Experiment 38 finished\n",
      "Experiment 39 finished\n",
      "Experiment 37 finished\n",
      "Experiment 32 finished\n",
      "Experiment 28 finished\n",
      "Experiment 31 finished\n",
      "Experiment 27 finished\n",
      "Experiment 26 finished\n",
      "Experiment 22 finished\n",
      "Experiment 21 finished\n",
      "Experiment 16 finished\n",
      "Experiment 15 finished\n",
      "Experiment 25 finished\n",
      "Experiment 64 finished\n",
      "Experiment 20 finished\n",
      "Experiment 63 finished\n",
      "Experiment 19 finished\n",
      "Experiment 14 finished\n",
      "Experiment 13 finished\n",
      "Experiment 68 finished\n",
      "Experiment 67 finished\n",
      "Experiment 69 finished\n",
      "Experiment 82 finished\n",
      "Experiment 80 finished\n",
      "Experiment 81 finished\n",
      "Experiment 78 finished\n",
      "Experiment 85 finished\n",
      "Experiment 83 finished\n",
      "Experiment 79 finished\n",
      "Experiment 77 finished\n",
      "Experiment 74 finished\n",
      "Experiment 70 finished\n",
      "Experiment 71 finished\n",
      "Experiment 73 finished\n",
      "Experiment 72 finished\n",
      "Experiment 96 finished\n",
      "Experiment 97 finished\n",
      "Experiment 98 finished\n",
      "Experiment 95 finished\n",
      "Experiment 92 finished\n",
      "Experiment 90 finished\n",
      "Experiment 91 finished\n",
      "Experiment 86 finished\n",
      "Experiment 76 finished\n",
      "Experiment 84 finished\n",
      "Experiment 89 finished\n",
      "Experiment 75 finished\n",
      "Experiment 99 finished\n",
      "Experiment 94 finished\n",
      "Experiment 93 finished\n",
      "Experiment 88 finished\n",
      "Experiment 87 finished\n"
     ]
    }
   ],
   "source": [
    "import threading\n",
    "import time\n",
    "\n",
    "# Define the function for each experiment\n",
    "def run_experiment(experiment_number):\n",
    "    print(f\"Experiment {experiment_number} started\")\n",
    "    # Your experiment code here\n",
    "    time.sleep(1)  # Simulating experiment execution\n",
    "    print(f\"Experiment {experiment_number} finished\")\n",
    "\n",
    "# Number of experiments\n",
    "num_experiments = 100\n",
    "\n",
    "# Loop through each experiment\n",
    "for i in range(num_experiments):\n",
    "    # Create a thread for each experiment\n",
    "    thread = threading.Thread(target=run_experiment, args=(i,))\n",
    "    # Start the thread\n",
    "    thread.start()"
   ]
  }
 ],
 "metadata": {
  "kernelspec": {
   "display_name": "PARCSANN",
   "language": "python",
   "name": "python3"
  },
  "language_info": {
   "codemirror_mode": {
    "name": "ipython",
    "version": 3
   },
   "file_extension": ".py",
   "mimetype": "text/x-python",
   "name": "python",
   "nbconvert_exporter": "python",
   "pygments_lexer": "ipython3",
   "version": "3.10.6"
  }
 },
 "nbformat": 4,
 "nbformat_minor": 2
}
